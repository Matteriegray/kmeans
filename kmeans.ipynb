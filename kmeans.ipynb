{
  "nbformat": 4,
  "nbformat_minor": 0,
  "metadata": {
    "colab": {
      "provenance": [],
      "authorship_tag": "ABX9TyO5shdPh0Zbip+y94sTMnO9",
      "include_colab_link": true
    },
    "kernelspec": {
      "name": "python3",
      "display_name": "Python 3"
    },
    "language_info": {
      "name": "python"
    }
  },
  "cells": [
    {
      "cell_type": "markdown",
      "metadata": {
        "id": "view-in-github",
        "colab_type": "text"
      },
      "source": [
        "<a href=\"https://colab.research.google.com/github/Matteriegray/kmeans/blob/main/kmeans.ipynb\" target=\"_parent\"><img src=\"https://colab.research.google.com/assets/colab-badge.svg\" alt=\"Open In Colab\"/></a>"
      ]
    },
    {
      "cell_type": "code",
      "execution_count": null,
      "metadata": {
        "id": "rLnqlkqHmVi6"
      },
      "outputs": [],
      "source": [
        "from keras.datasets import mnist\n",
        "import matplotlib.pyplot as plt\n",
        "from sklearn.metrics import accuracy_score, homogeneity_score\n",
        "from sklearn import metrics\n",
        "import numpy as np\n",
        "(x_train, y_train), (x_test, y_test) = mnist.load_data()"
      ]
    },
    {
      "cell_type": "code",
      "source": [
        "print(type(x_train))\n",
        "print(type(x_test))\n",
        "print(type(y_train))\n",
        "print(type(y_test))\n"
      ],
      "metadata": {
        "colab": {
          "base_uri": "https://localhost:8080/"
        },
        "id": "tmAAUHtJmexf",
        "outputId": "1fb8de8d-8493-4ecc-8b4b-13949df81758"
      },
      "execution_count": null,
      "outputs": [
        {
          "output_type": "stream",
          "name": "stdout",
          "text": [
            "<class 'numpy.ndarray'>\n",
            "<class 'numpy.ndarray'>\n",
            "<class 'numpy.ndarray'>\n",
            "<class 'numpy.ndarray'>\n"
          ]
        }
      ]
    },
    {
      "cell_type": "code",
      "source": [
        "print(x_train.shape)\n",
        "print(x_test.shape)\n",
        "print(y_train.shape)\n",
        "print(y_test.shape)"
      ],
      "metadata": {
        "colab": {
          "base_uri": "https://localhost:8080/"
        },
        "id": "OMbhPeSimh6v",
        "outputId": "05bfa794-e03f-47b0-8003-690e4e276355"
      },
      "execution_count": null,
      "outputs": [
        {
          "output_type": "stream",
          "name": "stdout",
          "text": [
            "(60000, 28, 28)\n",
            "(10000, 28, 28)\n",
            "(60000,)\n",
            "(10000,)\n"
          ]
        }
      ]
    },
    {
      "cell_type": "code",
      "source": [
        "plt.gray() # B/W Images\n",
        "plt.figure(figsize = (10,9)) # Adjusting figure size\n",
        "# Displaying a grid of 3x3 images\n",
        "for i in range(9):\n",
        " plt.subplot(3,3,i+1)\n",
        " plt.imshow(x_train[i])"
      ],
      "metadata": {
        "colab": {
          "base_uri": "https://localhost:8080/",
          "height": 772
        },
        "id": "zMNaAjEwmh0z",
        "outputId": "510759b5-1958-4788-f85a-dbd58f884615"
      },
      "execution_count": null,
      "outputs": [
        {
          "output_type": "display_data",
          "data": {
            "text/plain": [
              "<Figure size 640x480 with 0 Axes>"
            ]
          },
          "metadata": {}
        },
        {
          "output_type": "display_data",
          "data": {
            "text/plain": [
              "<Figure size 1000x900 with 9 Axes>"
            ],
            "image/png": "[encoded data removed]"
          },
          "metadata": {}
        }
      ]
    },
    {
      "cell_type": "code",
      "source": [
        "for i in range(5):\n",
        "  print(y_train[i])"
      ],
      "metadata": {
        "colab": {
          "base_uri": "https://localhost:8080/"
        },
        "id": "LvgJItZ2mhue",
        "outputId": "a17a5dee-c1dd-4c74-9eb2-d8ceaa1f2678"
      },
      "execution_count": null,
      "outputs": [
        {
          "output_type": "stream",
          "name": "stdout",
          "text": [
            "5\n",
            "0\n",
            "4\n",
            "1\n",
            "9\n"
          ]
        }
      ]
    },
    {
      "cell_type": "code",
      "source": [
        "print(x_train.min())\n",
        "print(x_train.max())"
      ],
      "metadata": {
        "colab": {
          "base_uri": "https://localhost:8080/"
        },
        "id": "kvyVGz2Smhol",
        "outputId": "84e06408-5128-4b8f-c50c-12c692dfa5f9"
      },
      "execution_count": null,
      "outputs": [
        {
          "output_type": "stream",
          "name": "stdout",
          "text": [
            "0\n",
            "255\n"
          ]
        }
      ]
    },
    {
      "cell_type": "code",
      "source": [
        "# Data Normalization\n",
        "# Conversion to float\n",
        "x_train = x_train.astype('float32')\n",
        "x_test = x_test.astype('float32')\n",
        "\n",
        "# Normalization\n",
        "x_train = x_train/255.0\n",
        "x_test = x_test/255.0\n",
        "\n",
        "print(x_train.min())\n",
        "print(x_train.max())"
      ],
      "metadata": {
        "colab": {
          "base_uri": "https://localhost:8080/"
        },
        "id": "XnC9KchZmhiv",
        "outputId": "405f211a-e6d1-4036-ff8c-1c9cb402f53a"
      },
      "execution_count": null,
      "outputs": [
        {
          "output_type": "stream",
          "name": "stdout",
          "text": [
            "0.0\n",
            "1.0\n"
          ]
        }
      ]
    },
    {
      "cell_type": "code",
      "source": [
        "X_train = x_train.reshape(len(x_train),-1)\n",
        "X_test = x_test.reshape(len(x_test),-1)"
      ],
      "metadata": {
        "id": "PfQmYk48mhcb"
      },
      "execution_count": null,
      "outputs": []
    },
    {
      "cell_type": "code",
      "source": [
        "print(X_train.shape)\n",
        "print(X_test.shape)"
      ],
      "metadata": {
        "colab": {
          "base_uri": "https://localhost:8080/"
        },
        "id": "pi1IBs5GmhVj",
        "outputId": "0f8ca21c-504d-455c-a4f1-353b6de000c3"
      },
      "execution_count": null,
      "outputs": [
        {
          "output_type": "stream",
          "name": "stdout",
          "text": [
            "(60000, 784)\n",
            "(10000, 784)\n"
          ]
        }
      ]
    },
    {
      "cell_type": "code",
      "source": [
        "from sklearn.cluster import MiniBatchKMeans\n",
        "total_clusters = len(np.unique(y_test))\n",
        "# Initialize the K-Means model\n",
        "kmeans = MiniBatchKMeans(n_clusters = total_clusters)\n",
        "# Fitting the model to training set\n",
        "kmeans.fit(X_train)\n",
        "\n",
        "\n",
        "kmeans.labels_"
      ],
      "metadata": {
        "colab": {
          "base_uri": "https://localhost:8080/"
        },
        "id": "v4otYQjhmu-D",
        "outputId": "f3576d6a-8963-4f67-ade0-4027fe1b933c"
      },
      "execution_count": null,
      "outputs": [
        {
          "output_type": "execute_result",
          "data": {
            "text/plain": [
              "array([1, 3, 9, ..., 1, 8, 4], dtype=int32)"
            ]
          },
          "metadata": {},
          "execution_count": 11
        }
      ]
    },
    {
      "cell_type": "code",
      "source": [
        "def retrieve_info(cluster_labels,y_train):\n",
        "    reference_labels = {}\n",
        "    for i in range(len(np.unique(kmeans.labels_))):\n",
        "        index = np.where(cluster_labels == i,1,0)\n",
        "        num = np.bincount(y_train[index==1]).argmax()\n",
        "        reference_labels[i] = num\n",
        "    return reference_labels"
      ],
      "metadata": {
        "id": "44OlAJDDmu7Q"
      },
      "execution_count": null,
      "outputs": []
    },
    {
      "cell_type": "code",
      "source": [
        "reference_labels = retrieve_info(kmeans.labels_,y_train)\n",
        "number_labels = np.random.rand(len(kmeans.labels_))\n",
        "for i in range(len(kmeans.labels_)):\n",
        "  number_labels[i] = reference_labels[kmeans.labels_[i]]\n",
        "print(reference_labels)"
      ],
      "metadata": {
        "colab": {
          "base_uri": "https://localhost:8080/"
        },
        "id": "z7ICWKSWmu4-",
        "outputId": "8d0ea44b-c48a-4e14-84e6-c506ddf9d9cf"
      },
      "execution_count": null,
      "outputs": [
        {
          "output_type": "stream",
          "name": "stdout",
          "text": [
            "{0: np.int64(4), 1: np.int64(8), 2: np.int64(1), 3: np.int64(0), 4: np.int64(7), 5: np.int64(3), 6: np.int64(7), 7: np.int64(2), 8: np.int64(6), 9: np.int64(4)}\n"
          ]
        }
      ]
    },
    {
      "cell_type": "code",
      "source": [
        "print(number_labels[:20].astype(int))\n",
        "print(y_train[:20])"
      ],
      "metadata": {
        "colab": {
          "base_uri": "https://localhost:8080/"
        },
        "id": "WtUhv6timu2x",
        "outputId": "dcbb9b4a-ffca-418b-d427-9913cca11bed"
      },
      "execution_count": null,
      "outputs": [
        {
          "output_type": "stream",
          "name": "stdout",
          "text": [
            "[8 0 4 1 4 2 1 8 1 4 8 1 3 6 1 7 2 8 6 7]\n",
            "[5 0 4 1 9 2 1 3 1 4 3 5 3 6 1 7 2 8 6 9]\n"
          ]
        }
      ]
    },
    {
      "cell_type": "code",
      "source": [
        "print(accuracy_score(number_labels,y_train))\n"
      ],
      "metadata": {
        "colab": {
          "base_uri": "https://localhost:8080/"
        },
        "id": "e7hGh4X_mu0e",
        "outputId": "c9a16750-b922-4628-c87c-cce19d4f0cd0"
      },
      "execution_count": null,
      "outputs": [
        {
          "output_type": "stream",
          "name": "stdout",
          "text": [
            "0.6299833333333333\n"
          ]
        }
      ]
    },
    {
      "cell_type": "code",
      "source": [
        "cluster_number = [10,16,36,64,144,256]\n",
        "for i in cluster_number:\n",
        "  total_clusters = len(np.unique(y_test))\n",
        "  kmeans = MiniBatchKMeans(n_clusters = i)\n",
        "  kmeans.fit(X_train)"
      ],
      "metadata": {
        "id": "LTVdhMAVmuuB"
      },
      "execution_count": null,
      "outputs": []
    },
    {
      "cell_type": "code",
      "source": [
        "def calculate_metrics(model,output):\n",
        " print('Number of clusters : {} '.format(model.n_clusters))\n",
        " print('Inertia : {} '.format(model.inertia_))\n",
        " print('Homogeneity : {} '.format(metrics.homogeneity_score(output,model.labels_)))\n",
        "\n",
        "\n",
        "calculate_metrics(kmeans,y_train)\n",
        "reference_labels = retrieve_info(kmeans.labels_,y_train)\n",
        "number_labels = np.random.rand(len(kmeans.labels_))"
      ],
      "metadata": {
        "colab": {
          "base_uri": "https://localhost:8080/"
        },
        "id": "vrC6wd5Wm9vg",
        "outputId": "d7d429cc-2503-4df6-93bf-4300b75bbbf9"
      },
      "execution_count": null,
      "outputs": [
        {
          "output_type": "stream",
          "name": "stdout",
          "text": [
            "Number of clusters : 256 \n",
            "Inertia : 1505190.75 \n",
            "Homogeneity : 0.842141354578088 \n"
          ]
        }
      ]
    },
    {
      "cell_type": "code",
      "source": [
        "centroids = kmeans.cluster_centers_\n",
        "centroids.shape\n",
        "centroids = centroids.reshape(256,28,28)\n",
        "centroids = centroids * 255"
      ],
      "metadata": {
        "id": "vSt26VKznCED"
      },
      "execution_count": null,
      "outputs": []
    },
    {
      "cell_type": "code",
      "source": [
        "plt.figure(figsize = (10,9))\n",
        "bottom = 0.35\n",
        "for i in range(9):\n",
        " plt.subplots_adjust(bottom)\n",
        " plt.subplot(3,3,i+1)\n",
        " plt.title('Number:{}'.format(reference_labels[i]),fontsize = 17)\n",
        " plt.imshow(centroids[i])"
      ],
      "metadata": {
        "colab": {
          "base_uri": "https://localhost:8080/",
          "height": 738
        },
        "id": "UN2VyZlynFsr",
        "outputId": "e7d5d2e7-638f-4795-d199-72ebc1ee20da"
      },
      "execution_count": null,
      "outputs": [
        {
          "output_type": "display_data",
          "data": {
            "text/plain": [
              "<Figure size 1000x900 with 9 Axes>"
            ],
            "image/png": "[encoded data removed]"
          },
          "metadata": {}
        }
      ]
    }
  ]
}